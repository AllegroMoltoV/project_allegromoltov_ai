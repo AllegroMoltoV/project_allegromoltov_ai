{
 "cells": [
  {
   "cell_type": "code",
   "execution_count": 1,
   "metadata": {},
   "outputs": [],
   "source": [
    "import numpy as np\n",
    "\n",
    "clips = np.load(\"../data/arrays/clips.npy\")"
   ]
  },
  {
   "cell_type": "code",
   "execution_count": 2,
   "metadata": {},
   "outputs": [],
   "source": [
    "# 楽曲の出力\n",
    "from scipy.io import wavfile\n",
    "\n",
    "out = np.zeros((0, ), dtype=np.int16)\n",
    "\n",
    "for i in range(10):\n",
    "    random_index = np.random.randint(0, len(clips))\n",
    "    out = np.hstack((out, clips[random_index]))\n",
    "    \n",
    "wavfile.write(\"../data/out/random.wav\", 44100, out)"
   ]
  },
  {
   "cell_type": "code",
   "execution_count": null,
   "metadata": {},
   "outputs": [],
   "source": []
  }
 ],
 "metadata": {
  "kernelspec": {
   "display_name": "Python 3",
   "language": "python",
   "name": "python3"
  },
  "language_info": {
   "codemirror_mode": {
    "name": "ipython",
    "version": 3
   },
   "file_extension": ".py",
   "mimetype": "text/x-python",
   "name": "python",
   "nbconvert_exporter": "python",
   "pygments_lexer": "ipython3",
   "version": "3.8.10"
  }
 },
 "nbformat": 4,
 "nbformat_minor": 2
}
