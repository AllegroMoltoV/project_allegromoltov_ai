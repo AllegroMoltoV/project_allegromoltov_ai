{
 "cells": [
  {
   "cell_type": "code",
   "execution_count": 10,
   "metadata": {},
   "outputs": [
    {
     "name": "stdout",
     "output_type": "stream",
     "text": [
      "_rw0_0e+00_PREDICT\n",
      "_rw2_0e-01_PREDICT\n",
      "_rw4_0e-01_PREDICT\n",
      "_rw6_0e-01_PREDICT\n",
      "_rw8_0e-01_PREDICT\n",
      "_rw1_0e+00_PREDICT\n",
      "_rw1_2e+00_PREDICT\n",
      "_rw1_4e+00_PREDICT\n",
      "_rw1_6e+00_PREDICT\n",
      "_rw1_8e+00_PREDICT\n"
     ]
    }
   ],
   "source": [
    "for i in range(10):\n",
    "    rhythm_weight = i * 0.2\n",
    "    file_name = \"_rw\" + format(rhythm_weight, '.1e').replace('.', '_') + \"_PREDICT\"\n",
    "    print(file_name)\n",
    "    "
   ]
  },
  {
   "cell_type": "code",
   "execution_count": null,
   "metadata": {},
   "outputs": [],
   "source": []
  }
 ],
 "metadata": {
  "kernelspec": {
   "display_name": "Python 3 (ipykernel)",
   "language": "python",
   "name": "python3"
  },
  "language_info": {
   "codemirror_mode": {
    "name": "ipython",
    "version": 3
   },
   "file_extension": ".py",
   "mimetype": "text/x-python",
   "name": "python",
   "nbconvert_exporter": "python",
   "pygments_lexer": "ipython3",
   "version": "3.9.16"
  }
 },
 "nbformat": 4,
 "nbformat_minor": 2
}
