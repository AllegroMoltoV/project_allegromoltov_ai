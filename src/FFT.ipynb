{
 "cells": [
  {
   "cell_type": "code",
   "execution_count": 25,
   "metadata": {},
   "outputs": [
    {
     "name": "stdout",
     "output_type": "stream",
     "text": [
      "Requirement already satisfied: scipy in /usr/local/lib/python3.8/dist-packages (1.10.1)\n",
      "Requirement already satisfied: numpy<1.27.0,>=1.19.5 in /usr/local/lib/python3.8/dist-packages (from scipy) (1.23.4)\n",
      "\u001b[33mWARNING: You are using pip version 20.2.4; however, version 23.0.1 is available.\n",
      "You should consider upgrading via the '/usr/bin/python3 -m pip install --upgrade pip' command.\u001b[0m\n",
      "clips.npy exists.\n",
      "fft.npy exists.\n",
      "(255, 40, 1024)\n",
      "<class 'numpy.float64'>\n",
      "(255, 40960)\n"
     ]
    },
    {
     "data": {
      "text/plain": [
       "array([ 6182.        , 10291.98714373, 48211.97434564, ...,\n",
       "       45003.1621557 , 48211.97434564, 10291.98714373])"
      ]
     },
     "execution_count": 25,
     "metadata": {},
     "output_type": "execute_result"
    }
   ],
   "source": [
    "# データセット作成\n",
    "\n",
    "!pip install scipy\n",
    "\n",
    "window_size = 1024\n",
    "window_num_per_clip = 40\n",
    "clip_size = window_size * window_num_per_clip\n",
    "\n",
    "from scipy.io.wavfile import read\n",
    "import glob\n",
    "import os\n",
    "import numpy as np\n",
    "\n",
    "\n",
    "if os.path.isfile(\"../data/arrays/clips.npy\"):\n",
    "    print(\"clips.npy exists.\")\n",
    "    clips = np.load(\"../data/arrays/clips.npy\")\n",
    "else:\n",
    "    files = glob.glob(\"../data/wav44100/*\")\n",
    "    #files = [\"../data/wav44100/3DEmbodimentFromLines.wav\"]\n",
    "    raw_data_list = [read(file)[1] for file in files]\n",
    "\n",
    "    clips = np.zeros((0, clip_size), dtype=np.int16)\n",
    "    for raw_data in raw_data_list:\n",
    "        tmp = [raw_data[i:i + clip_size] for i in range(0, len(raw_data) - clip_size, clip_size)]\n",
    "        clips = np.vstack((clips, np.array(tmp)))\n",
    "    np.save(\"../data/arrays/clips\", clips)\n",
    "    \n",
    "if os.path.isfile(\"../data/arrays/fft.npy\"):\n",
    "    print(\"fft.npy exists.\")\n",
    "    fft = np.load(\"../data/arrays/fft.npy\")\n",
    "else:\n",
    "    fft = np.zeros((0, window_num_per_clip, window_size))\n",
    "    for clip in clips:\n",
    "        fft_tmp = np.zeros((0, window_size))\n",
    "        tmp = [clip[i:i + window_size] for i in range(0, len(clip) - window_size + 1, window_size)]\n",
    "        for tmp2 in tmp:\n",
    "            fft_tmp = np.vstack((fft_tmp, np.abs(np.fft.fft(tmp2))))\n",
    "        fft = np.vstack((fft, fft_tmp.reshape(1, window_num_per_clip, window_size)))\n",
    "\n",
    "    np.save(\"../data/arrays/fft\", fft)\n",
    "\n",
    "print(fft.shape)\n",
    "print(type(fft[0][0][0]))\n",
    "print(clips.shape)"
   ]
  },
  {
   "cell_type": "code",
   "execution_count": null,
   "metadata": {},
   "outputs": [],
   "source": [
    "# 学習データとテストデータに分ける\n",
    "\n",
    "train_data_rate = 0.8\n",
    "\n",
    "p = np.random.permutation(len(x))\n",
    "fft = fft[p]\n",
    "clips = clips[p]\n",
    "\n",
    "x_train = fft[:int(fft.shape[0] * train_data_rate), :, :]\n",
    "x_test = fft[int(fft.shape[0] * train_data_rate):-1, :, :]\n",
    "y_train = fft[1:int(fft.shape[0] * train_data_rate) + 1, 0, :]\n",
    "y_test = fft[int(fft.shape[0] * train_data_rate) + 1:, 0, :]\n",
    "\n",
    "print(x_train.shape)\n",
    "print(x_test.shape)\n",
    "print(y_train.shape)\n",
    "print(y_test.shape)"
   ]
  },
  {
   "cell_type": "code",
   "execution_count": null,
   "metadata": {},
   "outputs": [],
   "source": []
  }
 ],
 "metadata": {
  "kernelspec": {
   "display_name": "Python 3",
   "language": "python",
   "name": "python3"
  },
  "language_info": {
   "codemirror_mode": {
    "name": "ipython",
    "version": 3
   },
   "file_extension": ".py",
   "mimetype": "text/x-python",
   "name": "python",
   "nbconvert_exporter": "python",
   "pygments_lexer": "ipython3",
   "version": "3.8.10"
  }
 },
 "nbformat": 4,
 "nbformat_minor": 2
}
