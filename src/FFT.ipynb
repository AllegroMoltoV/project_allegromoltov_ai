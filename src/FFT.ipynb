{
 "cells": [
  {
   "cell_type": "code",
   "execution_count": 2,
   "metadata": {
    "scrolled": true
   },
   "outputs": [
    {
     "name": "stdout",
     "output_type": "stream",
     "text": [
      "Requirement already satisfied: scipy in /usr/local/lib/python3.8/dist-packages (1.10.1)\n",
      "Requirement already satisfied: numpy<1.27.0,>=1.19.5 in /usr/local/lib/python3.8/dist-packages (from scipy) (1.23.4)\n",
      "\u001b[33mWARNING: You are using pip version 20.2.4; however, version 23.0.1 is available.\n",
      "You should consider upgrading via the '/usr/bin/python3 -m pip install --upgrade pip' command.\u001b[0m\n",
      "clips.npy exists.\n",
      "clips.shape: (28576, 40960)\n",
      "fft_log_normalized.npy exists.\n",
      "(28576, 40, 1024)\n",
      "<class 'numpy.float64'>\n",
      "(28576, 40960)\n",
      "[0.0017106  0.00181047 0.00211305 ... 0.00209956 0.00211305 0.00181047]\n"
     ]
    }
   ],
   "source": [
    "# データセット作成\n",
    "\n",
    "!pip install scipy\n",
    "\n",
    "window_size = 1024\n",
    "window_num_per_clip = 40\n",
    "clip_size = window_size * window_num_per_clip\n",
    "\n",
    "from scipy.io.wavfile import read\n",
    "import glob\n",
    "import os\n",
    "import numpy as np\n",
    "\n",
    "def standardization(x):\n",
    "    ret = np.log(x + 1) / np.log(np.finfo(np.float32).max)\n",
    "    if (np.sum(ret) == 0):\n",
    "        return ret\n",
    "    else:\n",
    "        return ret / np.sum(ret)\n",
    "\n",
    "if os.path.isfile(\"../data/arrays/clips.npy\"):\n",
    "    print(\"clips.npy exists.\")\n",
    "    clips = np.load(\"../data/arrays/clips.npy\")\n",
    "else:\n",
    "    files = glob.glob(\"../data/wav44100/*\")\n",
    "    #files = [\"../data/wav44100/3DEmbodimentFromLines.wav\"]\n",
    "    raw_data_list = [read(file)[1] for file in files]\n",
    "\n",
    "    clips = np.zeros((0, clip_size), dtype=np.int16)\n",
    "    for raw_data in raw_data_list:\n",
    "        tmp = [raw_data[i:i + clip_size] for i in range(0, len(raw_data) - clip_size, clip_size)]\n",
    "        clips = np.vstack((clips, np.array(tmp)))\n",
    "    np.save(\"../data/arrays/clips\", clips)\n",
    "    \n",
    "print(\"clips.shape: \" + str(clips.shape))\n",
    "    \n",
    "if os.path.isfile(\"../data/arrays/fft_log_normalized.npy\"):\n",
    "    print(\"fft_log_normalized.npy exists.\")\n",
    "    fft = np.load(\"../data/arrays/fft_log_normalized.npy\")\n",
    "else:\n",
    "    fft = np.zeros((0, window_num_per_clip, window_size))\n",
    "    num = 0\n",
    "    for clip in clips:\n",
    "        print(\"fft progress: clip \" + str(num))\n",
    "        \n",
    "        fft_tmp = np.zeros((0, window_size))\n",
    "        tmp = [clip[i:i + window_size] for i in range(0, len(clip) - window_size + 1, window_size)]\n",
    "        for tmp2 in tmp:\n",
    "            spectrum = np.abs(np.fft.fft(tmp2))\n",
    "            spectrum = standardization(spectrum)\n",
    "            fft_tmp = np.vstack((fft_tmp, spectrum))\n",
    "        fft = np.vstack((fft, fft_tmp.reshape(1, window_num_per_clip, window_size)))\n",
    "        num += 1\n",
    "\n",
    "    np.save(\"../data/arrays/fft_log_normalized\", fft)\n",
    "\n",
    "print(fft.shape)\n",
    "print(type(fft[0][0][0]))\n",
    "print(clips.shape)\n",
    "\n",
    "print(fft[0][0])"
   ]
  },
  {
   "cell_type": "code",
   "execution_count": 3,
   "metadata": {},
   "outputs": [
    {
     "name": "stdout",
     "output_type": "stream",
     "text": [
      "(22860, 40, 1024, 1)\n",
      "(5715, 40, 1024, 1)\n",
      "(22860, 1024)\n",
      "(5715, 1024)\n",
      "0.0023327182995820784\n"
     ]
    }
   ],
   "source": [
    "# 学習データとテストデータに分ける\n",
    "\n",
    "train_data_rate = 0.8\n",
    "\n",
    "p = np.random.permutation(len(fft))\n",
    "fft = fft[p]\n",
    "clips = clips[p]\n",
    "\n",
    "x_train = fft[:int(fft.shape[0] * train_data_rate), :, :].reshape(int(fft.shape[0] * train_data_rate), window_num_per_clip, window_size, 1)\n",
    "x_test = fft[int(fft.shape[0] * train_data_rate):-1, :, :].reshape(fft.shape[0] - int(fft.shape[0] * train_data_rate) - 1, window_num_per_clip, window_size, 1)\n",
    "y_train = fft[1:int(fft.shape[0] * train_data_rate) + 1, 0, :]\n",
    "y_test = fft[int(fft.shape[0] * train_data_rate) + 1:, 0, :]\n",
    "\n",
    "print(x_train.shape)\n",
    "print(x_test.shape)\n",
    "print(y_train.shape)\n",
    "print(y_test.shape)\n",
    "\n",
    "print(np.max(x_train[0]))"
   ]
  },
  {
   "cell_type": "code",
   "execution_count": 4,
   "metadata": {},
   "outputs": [],
   "source": [
    "def plot_history(history):\n",
    "    # 精度の履歴をプロット\n",
    "    plt.plot(history.history['accuracy'],\"o-\",label=\"accuracy\")\n",
    "    plt.plot(history.history['val_accuracy'],\"o-\",label=\"val_acc\")\n",
    "    plt.title('model accuracy')\n",
    "    plt.xlabel('epoch')\n",
    "    plt.ylabel('accuracy')\n",
    "    plt.legend(loc=\"lower right\")\n",
    "    plt.show()\n",
    " \n",
    "    # 損失の履歴をプロット\n",
    "    plt.plot(history.history['loss'],\"o-\",label=\"loss\",)\n",
    "    plt.plot(history.history['val_loss'],\"o-\",label=\"val_loss\")\n",
    "    plt.title('model loss')\n",
    "    plt.xlabel('epoch')\n",
    "    plt.ylabel('loss')\n",
    "    plt.legend(loc='lower right')\n",
    "    plt.show()"
   ]
  },
  {
   "cell_type": "code",
   "execution_count": 5,
   "metadata": {},
   "outputs": [
    {
     "name": "stdout",
     "output_type": "stream",
     "text": [
      "Model: \"sequential\"\n",
      "_________________________________________________________________\n",
      " Layer (type)                Output Shape              Param #   \n",
      "=================================================================\n",
      " conv2d (Conv2D)             (None, 38, 1024, 3)       12        \n",
      "                                                                 \n",
      " dropout (Dropout)           (None, 38, 1024, 3)       0         \n",
      "                                                                 \n",
      " flatten (Flatten)           (None, 116736)            0         \n",
      "                                                                 \n",
      " dense (Dense)               (None, 512)               59769344  \n",
      "                                                                 \n",
      " activation (Activation)     (None, 512)               0         \n",
      "                                                                 \n",
      " dropout_1 (Dropout)         (None, 512)               0         \n",
      "                                                                 \n",
      " dense_1 (Dense)             (None, 1024)              525312    \n",
      "                                                                 \n",
      " activation_1 (Activation)   (None, 1024)              0         \n",
      "                                                                 \n",
      "=================================================================\n",
      "Total params: 60,294,668\n",
      "Trainable params: 60,294,668\n",
      "Non-trainable params: 0\n",
      "_________________________________________________________________\n"
     ]
    }
   ],
   "source": [
    "# モデル作成\n",
    "\n",
    "import keras\n",
    "\n",
    "from keras.models import Sequential\n",
    "from keras.layers import Activation, Dense, Dropout, Conv2D, Flatten, Input\n",
    "from keras.optimizers import Adam\n",
    "\n",
    "learning_rate = 0.0001\n",
    " \n",
    "model = keras.models.Sequential()\n",
    "model.add(Conv2D(3, (3, 1), activation='relu', input_shape=(window_num_per_clip, window_size, 1)))\n",
    "model.add(Dropout(0.2))\n",
    "model.add(Flatten())\n",
    "model.add(Dense(units=512))\n",
    "model.add(Activation('relu'))\n",
    "model.add(Dropout(0.2))\n",
    "model.add(Dense(units=1024))\n",
    "model.add(Activation('softmax'))\n",
    "model.compile(loss='categorical_crossentropy',optimizer=Adam(learning_rate=learning_rate),metrics=['accuracy'])\n",
    "\n",
    "model.build()\n",
    "model.summary()"
   ]
  },
  {
   "cell_type": "code",
   "execution_count": 6,
   "metadata": {},
   "outputs": [
    {
     "name": "stdout",
     "output_type": "stream",
     "text": [
      "90/90 [==============================] - 53s 583ms/step - loss: 6.8989 - accuracy: 0.0455 - val_loss: 6.8978 - val_accuracy: 0.1463\n"
     ]
    },
    {
     "name": "stderr",
     "output_type": "stream",
     "text": [
      "WARNING:absl:Found untraced functions such as _jit_compiled_convolution_op while saving (showing 1 of 1). These functions will not be directly callable after loading.\n"
     ]
    },
    {
     "name": "stdout",
     "output_type": "stream",
     "text": [
      "INFO:tensorflow:Assets written to: ../data/models/fft_batch256_e1/assets\n"
     ]
    },
    {
     "name": "stderr",
     "output_type": "stream",
     "text": [
      "INFO:tensorflow:Assets written to: ../data/models/fft_batch256_e1/assets\n"
     ]
    }
   ],
   "source": [
    "# 学習\n",
    "\n",
    "history = model.fit(x_train, y_train,\n",
    "                    batch_size=256,\n",
    "                    epochs=1,\n",
    "                    verbose=1,\n",
    "                    validation_data=(x_test, y_test))\n",
    "\n",
    "model.save(\"../data/models/fft_batch256_e1\")"
   ]
  },
  {
   "cell_type": "code",
   "execution_count": 7,
   "metadata": {},
   "outputs": [
    {
     "data": {
      "image/png": "[encoded data removed]",
      "text/plain": [
       "<Figure size 640x480 with 1 Axes>"
      ]
     },
     "metadata": {},
     "output_type": "display_data"
    },
    {
     "data": {
      "image/png": "[encoded data removed]",
      "text/plain": [
       "<Figure size 640x480 with 1 Axes>"
      ]
     },
     "metadata": {},
     "output_type": "display_data"
    }
   ],
   "source": [
    "# loss 遷移のプロット\n",
    "\n",
    "import matplotlib.pyplot as plt\n",
    "\n",
    "plot_history(history)"
   ]
  },
  {
   "cell_type": "code",
   "execution_count": 8,
   "metadata": {},
   "outputs": [
    {
     "name": "stdout",
     "output_type": "stream",
     "text": [
      "Collecting scikit-learn\n",
      "  Downloading scikit_learn-1.2.1-cp38-cp38-manylinux_2_17_x86_64.manylinux2014_x86_64.whl (9.8 MB)\n",
      "\u001b[K     |████████████████████████████████| 9.8 MB 7.6 MB/s eta 0:00:01\n",
      "\u001b[?25hRequirement already satisfied: scipy>=1.3.2 in /usr/local/lib/python3.8/dist-packages (from scikit-learn) (1.10.1)\n",
      "Collecting threadpoolctl>=2.0.0\n",
      "  Downloading threadpoolctl-3.1.0-py3-none-any.whl (14 kB)\n",
      "Requirement already satisfied: numpy>=1.17.3 in /usr/local/lib/python3.8/dist-packages (from scikit-learn) (1.23.4)\n",
      "Collecting joblib>=1.1.1\n",
      "  Downloading joblib-1.2.0-py3-none-any.whl (297 kB)\n",
      "\u001b[K     |████████████████████████████████| 297 kB 10.5 MB/s eta 0:00:01\n",
      "\u001b[?25hInstalling collected packages: threadpoolctl, joblib, scikit-learn\n",
      "Successfully installed joblib-1.2.0 scikit-learn-1.2.1 threadpoolctl-3.1.0\n",
      "\u001b[33mWARNING: You are using pip version 20.2.4; however, version 23.0.1 is available.\n",
      "You should consider upgrading via the '/usr/bin/python3 -m pip install --upgrade pip' command.\u001b[0m\n",
      "1/1 [==============================] - 0s 74ms/step\n",
      "29\n",
      "1/1 [==============================] - 0s 28ms/step\n",
      "29\n",
      "1/1 [==============================] - 0s 28ms/step\n",
      "29\n",
      "1/1 [==============================] - 0s 28ms/step\n",
      "29\n",
      "1/1 [==============================] - 0s 30ms/step\n",
      "29\n",
      "1/1 [==============================] - 0s 28ms/step\n",
      "29\n",
      "1/1 [==============================] - 0s 28ms/step\n",
      "29\n",
      "1/1 [==============================] - 0s 27ms/step\n",
      "29\n",
      "1/1 [==============================] - 0s 28ms/step\n",
      "29\n",
      "1/1 [==============================] - 0s 28ms/step\n",
      "29\n",
      "1/1 [==============================] - 0s 28ms/step\n",
      "29\n",
      "1/1 [==============================] - 0s 28ms/step\n",
      "29\n",
      "1/1 [==============================] - 0s 28ms/step\n",
      "29\n",
      "1/1 [==============================] - 0s 29ms/step\n",
      "29\n",
      "1/1 [==============================] - 0s 32ms/step\n",
      "29\n",
      "1/1 [==============================] - 0s 29ms/step\n",
      "29\n",
      "1/1 [==============================] - 0s 29ms/step\n",
      "29\n",
      "1/1 [==============================] - 0s 28ms/step\n",
      "29\n",
      "1/1 [==============================] - 0s 28ms/step\n",
      "29\n",
      "1/1 [==============================] - 0s 28ms/step\n",
      "29\n",
      "1/1 [==============================] - 0s 29ms/step\n",
      "29\n",
      "1/1 [==============================] - 0s 28ms/step\n",
      "29\n",
      "1/1 [==============================] - 0s 29ms/step\n",
      "29\n",
      "1/1 [==============================] - 0s 28ms/step\n",
      "29\n",
      "1/1 [==============================] - 0s 30ms/step\n",
      "29\n",
      "1/1 [==============================] - 0s 29ms/step\n",
      "29\n",
      "1/1 [==============================] - 0s 28ms/step\n",
      "29\n",
      "1/1 [==============================] - 0s 29ms/step\n",
      "29\n",
      "1/1 [==============================] - 0s 32ms/step\n",
      "29\n",
      "1/1 [==============================] - 0s 29ms/step\n",
      "29\n"
     ]
    }
   ],
   "source": [
    "# 楽曲の出力\n",
    "\n",
    "!pip install scikit-learn\n",
    "\n",
    "import sklearn\n",
    "from sklearn.metrics.pairwise import cosine_similarity\n",
    "from scipy.io import wavfile\n",
    "from keras.models import load_model\n",
    "\n",
    "model = load_model(\"../data/models/fft_batch256_e1\")\n",
    "\n",
    "first_index = np.random.randint(0, len(x_test))\n",
    "predict_index = first_index\n",
    "out = np.zeros((0, ), dtype=np.int16)\n",
    "\n",
    "for i in range(10):\n",
    "    predict = model.predict(np.array([x_test[predict_index]]))\n",
    "    \n",
    "    index = 0\n",
    "    similar_index = 0\n",
    "    cos_sim = np.inf\n",
    "    for spectrum in x_test[:, 0:1, :, 0]:\n",
    "        tmp_sim = cosine_similarity(predict, spectrum) \n",
    "        if cos_sim > tmp_sim:\n",
    "            cos_sim = tmp_sim\n",
    "            similar_index = index\n",
    "        index += 1\n",
    "    \n",
    "    print(similar_index)\n",
    "    \n",
    "    predict_index = similar_index\n",
    "    out = np.hstack((out, clips[predict_index]))\n",
    "    \n",
    "wavfile.write(\"../data/out/fft_out_1.wav\", 44100, out)\n",
    "\n",
    "first_index = np.random.randint(0, len(x_test))\n",
    "predict_index = first_index\n",
    "out = np.zeros((0, ), dtype=np.int16)\n",
    "\n",
    "for i in range(10):\n",
    "    predict = model.predict(np.array([x_test[predict_index]]))\n",
    "    \n",
    "    index = 0\n",
    "    similar_index = 0\n",
    "    cos_sim = np.inf\n",
    "    for spectrum in x_test[:, 0:1, :, 0]:\n",
    "        tmp_sim = cosine_similarity(predict, spectrum) \n",
    "        if cos_sim > tmp_sim:\n",
    "            cos_sim = tmp_sim\n",
    "            similar_index = index\n",
    "        index += 1\n",
    "    \n",
    "    print(similar_index)\n",
    "    \n",
    "    predict_index = similar_index\n",
    "    out = np.hstack((out, clips[predict_index]))\n",
    "    \n",
    "wavfile.write(\"../data/out/fft_out_2.wav\", 44100, out)\n",
    "\n",
    "first_index = np.random.randint(0, len(x_test))\n",
    "predict_index = first_index\n",
    "out = np.zeros((0, ), dtype=np.int16)\n",
    "\n",
    "for i in range(10):\n",
    "    predict = model.predict(np.array([x_test[predict_index]]))\n",
    "    \n",
    "    index = 0\n",
    "    similar_index = 0\n",
    "    cos_sim = np.inf\n",
    "    for spectrum in x_test[:, 0:1, :, 0]:\n",
    "        tmp_sim = cosine_similarity(predict, spectrum) \n",
    "        if cos_sim > tmp_sim:\n",
    "            cos_sim = tmp_sim\n",
    "            similar_index = index\n",
    "        index += 1\n",
    "    \n",
    "    print(similar_index)\n",
    "    \n",
    "    predict_index = similar_index\n",
    "    out = np.hstack((out, clips[predict_index]))\n",
    "    \n",
    "wavfile.write(\"../data/out/fft_out_3.wav\", 44100, out)"
   ]
  },
  {
   "cell_type": "code",
   "execution_count": null,
   "metadata": {},
   "outputs": [],
   "source": []
  }
 ],
 "metadata": {
  "kernelspec": {
   "display_name": "Python 3",
   "language": "python",
   "name": "python3"
  },
  "language_info": {
   "codemirror_mode": {
    "name": "ipython",
    "version": 3
   },
   "file_extension": ".py",
   "mimetype": "text/x-python",
   "name": "python",
   "nbconvert_exporter": "python",
   "pygments_lexer": "ipython3",
   "version": "3.8.10"
  }
 },
 "nbformat": 4,
 "nbformat_minor": 2
}
