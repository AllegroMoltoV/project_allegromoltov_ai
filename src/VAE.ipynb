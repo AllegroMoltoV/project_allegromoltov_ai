{
 "cells": [
  {
   "cell_type": "code",
   "execution_count": 1,
   "metadata": {},
   "outputs": [
    {
     "name": "stdout",
     "output_type": "stream",
     "text": [
      "Collecting scipy\n",
      "  Downloading scipy-1.10.1-cp38-cp38-manylinux_2_17_x86_64.manylinux2014_x86_64.whl (34.5 MB)\n",
      "\u001b[K     |████████████████████████████████| 34.5 MB 13.4 MB/s eta 0:00:01    |█████████████▏                  | 14.2 MB 8.3 MB/s eta 0:00:03\n",
      "\u001b[?25hRequirement already satisfied: numpy<1.27.0,>=1.19.5 in /usr/local/lib/python3.8/dist-packages (from scipy) (1.23.4)\n",
      "Installing collected packages: scipy\n",
      "Successfully installed scipy-1.10.1\n",
      "\u001b[33mWARNING: You are using pip version 20.2.4; however, version 23.0.1 is available.\n",
      "You should consider upgrading via the '/usr/bin/python3 -m pip install --upgrade pip' command.\u001b[0m\n"
     ]
    }
   ],
   "source": [
    "# 初期設定\n",
    "\n",
    "!pip install scipy\n",
    "\n",
    "sample_len = 10 # seconds\n",
    "sampling_rate = 44100\n",
    "data_len = sample_len * sampling_rate"
   ]
  },
  {
   "cell_type": "code",
   "execution_count": 2,
   "metadata": {},
   "outputs": [
    {
     "name": "stdout",
     "output_type": "stream",
     "text": [
      "Model: \"encoder\"\n",
      "__________________________________________________________________________________________________\n",
      " Layer (type)                   Output Shape         Param #     Connected to                     \n",
      "==================================================================================================\n",
      " input_1 (InputLayer)           [(None, 441000, 1)]  0           []                               \n",
      "                                                                                                  \n",
      " conv1d (Conv1D)                (None, 220500, 16)   64          ['input_1[0][0]']                \n",
      "                                                                                                  \n",
      " conv1d_1 (Conv1D)              (None, 110250, 16)   784         ['conv1d[0][0]']                 \n",
      "                                                                                                  \n",
      " conv1d_2 (Conv1D)              (None, 55125, 16)    784         ['conv1d_1[0][0]']               \n",
      "                                                                                                  \n",
      " flatten (Flatten)              (None, 882000)       0           ['conv1d_2[0][0]']               \n",
      "                                                                                                  \n",
      " dense (Dense)                  (None, 16)           14112016    ['flatten[0][0]']                \n",
      "                                                                                                  \n",
      " z_mean (Dense)                 (None, 2)            34          ['dense[0][0]']                  \n",
      "                                                                                                  \n",
      " z_log_var (Dense)              (None, 2)            34          ['dense[0][0]']                  \n",
      "                                                                                                  \n",
      " sampling (Sampling)            (None, 2)            0           ['z_mean[0][0]',                 \n",
      "                                                                  'z_log_var[0][0]']              \n",
      "                                                                                                  \n",
      "==================================================================================================\n",
      "Total params: 14,113,716\n",
      "Trainable params: 14,113,716\n",
      "Non-trainable params: 0\n",
      "__________________________________________________________________________________________________\n",
      "Model: \"decoder\"\n",
      "_________________________________________________________________\n",
      " Layer (type)                Output Shape              Param #   \n",
      "=================================================================\n",
      " input_2 (InputLayer)        [(None, 2)]               0         \n",
      "                                                                 \n",
      " dense_1 (Dense)             (None, 220500)            661500    \n",
      "                                                                 \n",
      " reshape (Reshape)           (None, 55125, 4)          0         \n",
      "                                                                 \n",
      " conv1d_transpose (Conv1DTra  (None, 110250, 16)       208       \n",
      " nspose)                                                         \n",
      "                                                                 \n",
      " conv1d_transpose_1 (Conv1DT  (None, 220500, 16)       784       \n",
      " ranspose)                                                       \n",
      "                                                                 \n",
      " conv1d_transpose_2 (Conv1DT  (None, 441000, 16)       784       \n",
      " ranspose)                                                       \n",
      "                                                                 \n",
      " conv1d_transpose_3 (Conv1DT  (None, 441000, 1)        49        \n",
      " ranspose)                                                       \n",
      "                                                                 \n",
      "=================================================================\n",
      "Total params: 663,325\n",
      "Trainable params: 663,325\n",
      "Non-trainable params: 0\n",
      "_________________________________________________________________\n"
     ]
    }
   ],
   "source": [
    "import numpy as np\n",
    "import tensorflow as tf\n",
    "from tensorflow import keras\n",
    "from tensorflow.keras import layers\n",
    "import matplotlib.pyplot as plt\n",
    "\n",
    "# サンプリングレイヤー\n",
    "\n",
    "class Sampling(layers.Layer):\n",
    "    def call(self, inputs):\n",
    "        z_mean, z_log_var = inputs\n",
    "        batch = tf.shape(z_mean)[0]\n",
    "        dim = tf.shape(z_mean)[1]\n",
    "        epsilon = tf.keras.backend.random_normal(shape=(batch, dim))\n",
    "        return z_mean + tf.exp(0.5 * z_log_var) * epsilon\n",
    "\n",
    "# エンコーダー    \n",
    "\n",
    "latent_dim = 2\n",
    "latent_vector_size = int(data_len / 2 / 2 / 2)\n",
    "\n",
    "encoder_inputs = keras.Input(shape=(data_len, 1))\n",
    "x = layers.Conv1D(16, 3, activation=\"leaky_relu\", strides=2, padding=\"same\")(encoder_inputs)\n",
    "x = layers.Conv1D(16, 3, activation=\"leaky_relu\", strides=2, padding=\"same\")(x)\n",
    "x = layers.Conv1D(16, 3, activation=\"leaky_relu\", strides=2, padding=\"same\")(x)\n",
    "x = layers.Flatten()(x)\n",
    "x = layers.Dense(16, activation=\"leaky_relu\")(x)\n",
    "z_mean = layers.Dense(latent_dim, name=\"z_mean\")(x)\n",
    "z_log_var = layers.Dense(latent_dim, name=\"z_log_var\")(x)\n",
    "z = Sampling()([z_mean, z_log_var])\n",
    "encoder = keras.Model(encoder_inputs, [z_mean, z_log_var, z], name=\"encoder\")\n",
    "encoder.summary()\n",
    "\n",
    "# デコーダー\n",
    "\n",
    "latent_inputs = keras.Input(shape=(latent_dim,))\n",
    "x = layers.Dense(latent_vector_size * 4, activation=\"relu\")(latent_inputs)\n",
    "x = layers.Reshape((latent_vector_size, 4))(x)\n",
    "x = layers.Conv1DTranspose(16, 3, activation=\"relu\", strides=2, padding=\"same\")(x)\n",
    "x = layers.Conv1DTranspose(16, 3, activation=\"relu\", strides=2, padding=\"same\")(x)\n",
    "x = layers.Conv1DTranspose(16, 3, activation=\"relu\", strides=2, padding=\"same\")(x)\n",
    "decoder_outputs = layers.Conv1DTranspose(1, 3, activation=\"sigmoid\", padding=\"same\")(x)\n",
    "decoder = keras.Model(latent_inputs, decoder_outputs, name=\"decoder\")\n",
    "decoder.summary()\n",
    "\n",
    "# VAE\n",
    "\n",
    "class VAE(keras.Model):\n",
    "    def __init__(self, encoder, decoder, **kwargs):\n",
    "        super(VAE, self).__init__(**kwargs)\n",
    "        self.encoder = encoder\n",
    "        self.decoder = decoder\n",
    "        self.total_loss_tracker = keras.metrics.Mean(name=\"total_loss\")\n",
    "        self.reconstruction_loss_tracker = keras.metrics.Mean(name=\"reconstruction_loss\")\n",
    "        self.kl_loss_tracker = keras.metrics.Mean(name=\"kl_loss\")\n",
    "\n",
    "    @property\n",
    "    def metrics(self):\n",
    "        return [\n",
    "            self.total_loss_tracker,\n",
    "            self.reconstruction_loss_tracker,\n",
    "            self.kl_loss_tracker,\n",
    "        ]\n",
    "\n",
    "    def predict(self, x):\n",
    "        z_mean, _, _ = self.encoder.predict(x)\n",
    "        y = self.decoder.predict(z_mean)\n",
    "        return y\n",
    "\n",
    "    def train_step(self, data):\n",
    "        with tf.GradientTape() as tape:\n",
    "            z_mean, z_log_var, z = self.encoder(data)\n",
    "            reconstruction = self.decoder(z)\n",
    "            reconstruction_loss = tf.reduce_mean(\n",
    "                tf.reduce_sum(\n",
    "                    keras.losses.binary_crossentropy(data, reconstruction)\n",
    "                )\n",
    "            )\n",
    "            kl_loss = -0.5 * (1 + z_log_var - tf.square(z_mean) - tf.exp(z_log_var))\n",
    "            kl_loss = tf.reduce_mean(tf.reduce_sum(kl_loss, axis=1))\n",
    "            total_loss = reconstruction_loss + kl_loss\n",
    "        grads = tape.gradient(total_loss, self.trainable_weights)\n",
    "        self.optimizer.apply_gradients(zip(grads, self.trainable_weights))\n",
    "        self.total_loss_tracker.update_state(total_loss)\n",
    "        self.reconstruction_loss_tracker.update_state(reconstruction_loss)\n",
    "        self.kl_loss_tracker.update_state(kl_loss)\n",
    "        return {\n",
    "            \"loss\": self.total_loss_tracker.result(),\n",
    "            \"reconstruction_loss\": self.reconstruction_loss_tracker.result(),\n",
    "            \"kl_loss\": self.kl_loss_tracker.result(),\n",
    "        }"
   ]
  },
  {
   "cell_type": "code",
   "execution_count": 3,
   "metadata": {},
   "outputs": [
    {
     "name": "stdout",
     "output_type": "stream",
     "text": [
      "input_data_array exists.\n"
     ]
    },
    {
     "data": {
      "text/plain": [
       "(4149, 441000)"
      ]
     },
     "execution_count": 3,
     "metadata": {},
     "output_type": "execute_result"
    }
   ],
   "source": [
    "# データ作成\n",
    "\n",
    "from scipy.io.wavfile import read\n",
    "import glob\n",
    "import os\n",
    "\n",
    "if os.path.isfile(\"../data/arrays/input_data_array.npy\"):\n",
    "    print(\"input_data_array exists.\")\n",
    "    input_data_array = np.load(\"../data/arrays/input_data_array.npy\")\n",
    "else:\n",
    "    files = glob.glob(\"../data/wav44100/*\")\n",
    "    #files = [\"../data/wav44100/3DEmbodimentFromLines.wav\"]\n",
    "    raw_data_list = [read(file)[1] for file in files]\n",
    "\n",
    "    input_data_array = np.zeros((0, data_len), dtype=np.int16)\n",
    "    for raw_data in raw_data_list:\n",
    "        tmp = [raw_data[i:i + data_len] for i in range(0, len(raw_data) - data_len, data_len)]\n",
    "        input_data_array = np.vstack((input_data_array, np.array(tmp)))\n",
    "\n",
    "    np.save(\"../data/arrays/input_data_array\", input_data_array)\n",
    "    \n",
    "input_data_array.shape"
   ]
  },
  {
   "cell_type": "code",
   "execution_count": 4,
   "metadata": {},
   "outputs": [
    {
     "name": "stdout",
     "output_type": "stream",
     "text": [
      "(3319, 441000)\n",
      "(830, 441000)\n"
     ]
    }
   ],
   "source": [
    "# 学習データとテストデータに分ける\n",
    "\n",
    "train_data_rate = 0.8\n",
    "np.random.shuffle(input_data_array)\n",
    "\n",
    "x_train = input_data_array[:int(input_data_array.shape[0] * train_data_rate), :]\n",
    "x_test = input_data_array[int(input_data_array.shape[0] * train_data_rate):, :]\n",
    "\n",
    "print(x_train.shape)\n",
    "print(x_test.shape)"
   ]
  },
  {
   "cell_type": "code",
   "execution_count": null,
   "metadata": {
    "scrolled": false
   },
   "outputs": [
    {
     "name": "stdout",
     "output_type": "stream",
     "text": [
      "Epoch 1/20\n",
      "260/260 [==============================] - 418s 2s/step - loss: 4890762.8985 - reconstruction_loss: 4877907.0000 - kl_loss: 4.9429\n",
      "Epoch 2/20\n",
      "260/260 [==============================] - 415s 2s/step - loss: 4890742.2088 - reconstruction_loss: 4877907.0000 - kl_loss: 4.0846e-04\n",
      "Epoch 3/20\n",
      "260/260 [==============================] - 415s 2s/step - loss: 4890742.2356 - reconstruction_loss: 4877907.0000 - kl_loss: 4.9014e-04\n",
      "Epoch 4/20\n",
      "260/260 [==============================] - 414s 2s/step - loss: 4890742.4559 - reconstruction_loss: 4877907.0000 - kl_loss: 0.0061\n",
      "Epoch 5/20\n",
      "260/260 [==============================] - 415s 2s/step - loss: 4890742.2778 - reconstruction_loss: 4877907.0000 - kl_loss: 0.0282\n",
      "Epoch 6/20\n",
      "260/260 [==============================] - 417s 2s/step - loss: 4890743.0460 - reconstruction_loss: 4877908.0000 - kl_loss: 0.0252\n",
      "Epoch 7/20\n",
      "260/260 [==============================] - 422s 2s/step - loss: 4890742.5307 - reconstruction_loss: 4877907.0000 - kl_loss: 0.0842\n",
      "Epoch 8/20\n",
      "260/260 [==============================] - 419s 2s/step - loss: 4895734.1782 - reconstruction_loss: 4877968.0000 - kl_loss: 3417.9414\n",
      "Epoch 9/20\n",
      "260/260 [==============================] - 416s 2s/step - loss: 4890817.8103 - reconstruction_loss: 4877907.0000 - kl_loss: 67.7119\n",
      "Epoch 10/20\n",
      " 26/260 [==>...........................] - ETA: 6:13 - loss: 4890903.5385 - reconstruction_loss: 4890847.0000 - kl_loss: 56.5784"
     ]
    }
   ],
   "source": [
    "# 学習\n",
    "\n",
    "digits = np.concatenate([x_train, x_test], axis=0)\n",
    "digits = (np.expand_dims(digits, -1).astype(\"float32\") - np.iinfo(np.int16).min) / (np.iinfo(np.int16).max - np.iinfo(np.int16).min)\n",
    "\n",
    "vae = VAE(encoder, decoder)\n",
    "vae.compile(optimizer=keras.optimizers.Adam())\n",
    "history = vae.fit(digits, epochs=20, batch_size=16)\n",
    "\n",
    "vae.save_weights(\"../data/models/vae\")"
   ]
  },
  {
   "cell_type": "code",
   "execution_count": null,
   "metadata": {},
   "outputs": [],
   "source": [
    "# 結果のプロット\n",
    "\n",
    "row = 1\n",
    "col = 3\n",
    "fig, ax = plt.subplots(row, col, figsize=(15,4))\n",
    "ax[0].plot(history.history[\"loss\"])\n",
    "ax[0].set_ylabel('loss')\n",
    "ax[0].set_xlabel('epoch')\n",
    "ax[1].plot(history.history[\"reconstruction_loss\"])\n",
    "ax[1].set_ylabel('reconstruction_loss')\n",
    "ax[1].set_xlabel('epoch')\n",
    "ax[2].plot(history.history[\"kl_loss\"])\n",
    "ax[2].set_ylabel('kl_loss')\n",
    "ax[2].set_xlabel('epoch')\n",
    "plt.show()"
   ]
  },
  {
   "cell_type": "code",
   "execution_count": null,
   "metadata": {},
   "outputs": [],
   "source": [
    "# 楽曲の復元\n",
    "\n",
    "from scipy.io.wavfile import write\n",
    "\n",
    "def ConvertToInt16Array(arr):\n",
    "    return (arr * (np.iinfo(np.int16).max - np.iinfo(np.int16).min) + np.iinfo(np.int16).min).astype(np.int16)\n",
    "\n",
    "vae = VAE(encoder, decoder)\n",
    "vae.compile(optimizer=keras.optimizers.Adam())\n",
    "vae.built = True\n",
    "vae.load_weights(\"../data/models/vae\")\n",
    "\n",
    "index = 300\n",
    "x = digits[index]\n",
    "x = np.expand_dims(x, 0)\n",
    "x_decode = vae.predict(x)\n",
    "\n",
    "write(\"../data/out/original.wav\", rate=sampling_rate, data=ConvertToInt16Array(x[0]))\n",
    "write(\"../data/out/out.wav\", rate=sampling_rate, data=ConvertToInt16Array(x_decode[0]))"
   ]
  },
  {
   "cell_type": "code",
   "execution_count": null,
   "metadata": {},
   "outputs": [],
   "source": []
  }
 ],
 "metadata": {
  "kernelspec": {
   "display_name": "Python 3",
   "language": "python",
   "name": "python3"
  },
  "language_info": {
   "codemirror_mode": {
    "name": "ipython",
    "version": 3
   },
   "file_extension": ".py",
   "mimetype": "text/x-python",
   "name": "python",
   "nbconvert_exporter": "python",
   "pygments_lexer": "ipython3",
   "version": "3.8.10"
  }
 },
 "nbformat": 4,
 "nbformat_minor": 2
}
