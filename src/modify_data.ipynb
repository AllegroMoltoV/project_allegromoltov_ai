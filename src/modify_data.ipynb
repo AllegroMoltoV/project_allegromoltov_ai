{
 "cells": [
  {
   "cell_type": "code",
   "execution_count": null,
   "metadata": {},
   "outputs": [],
   "source": [
    "import numpy as np\n",
    "\n",
    "def normalize(array):\n",
    "    if (np.sum(array) == 0):\n",
    "        return array\n",
    "    else:\n",
    "        return array / np.sum(array)\n",
    "\n",
    "\n",
    "a = np.array([[[1, 2, 3], [100, 200, 300], [0, 0, 0]]])\n",
    "a = np.apply_along_axis(normalize, 2, a)\n",
    "a\n",
    "      \n",
    "fft = np.load(\"../data/arrays/fft_log.npy\")  \n",
    "fft = np.apply_along_axis(normalize, 2, fft)\n",
    "np.save(\"../data/arrays/fft_log_normalized\", fft)"
   ]
  },
  {
   "cell_type": "code",
   "execution_count": null,
   "metadata": {},
   "outputs": [],
   "source": []
  }
 ],
 "metadata": {
  "kernelspec": {
   "display_name": "Python 3",
   "language": "python",
   "name": "python3"
  },
  "language_info": {
   "codemirror_mode": {
    "name": "ipython",
    "version": 3
   },
   "file_extension": ".py",
   "mimetype": "text/x-python",
   "name": "python",
   "nbconvert_exporter": "python",
   "pygments_lexer": "ipython3",
   "version": "3.8.10"
  }
 },
 "nbformat": 4,
 "nbformat_minor": 2
}
